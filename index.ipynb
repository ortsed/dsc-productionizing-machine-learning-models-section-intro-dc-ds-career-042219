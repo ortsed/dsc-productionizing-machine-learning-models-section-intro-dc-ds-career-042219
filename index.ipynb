{
 "cells": [
  {
   "cell_type": "markdown",
   "metadata": {},
   "source": [
    "# Productionizing Machine Learning Models - Section Intro\n",
    "\n",
    "## Introduction\n",
    "\n",
    "In this lesson, we'll learn about the topics covered in this section and why they are important to us in our data science careers.\n",
    "\n",
    "## Machine Learning and the Cloud\n",
    "\n",
    "We'll begin this section by learning about all the ways that cloud computing services such as **_Amazon Web Services (AWS)_** have made things better and easier for data scientists, and why they are an important skill set for you to master. In this lesson, we'll explore why being able to productionize the machine learning models you create so that people can use them is one of the most valuable skills you can have as a data scientist. \n",
    "\n",
    "## Amazon Web Services (AWS)\n",
    "\n",
    "One we understand the importance of cloud services and how they fit into the picture for data scientists, we'll jump right in to the most popular cloud service, AWS. In this lesson, we'll learn about what AWS ecosystem contains and how we can use it. We'll also create an account and learn our way around the AWS dashboard. \n",
    "\n",
    "## AWS SageMaker\n",
    "\n",
    "Once we know the basics of AWS, we'll learn how we can make use of the most important tool for Data Scientists, **_AWS SageMaker_**! In this lesson, we'll learn about what SageMaker is, and how we can incorporate it into our workflow to simplify things like distributed training or or model productionization! \n",
    "\n",
    "## Hands-On Practice Shipping Models\n",
    "\n",
    "The final 3 lessons of this section will focus on using what we've learned to train and ship real-world models using AWS SageMaker. We'll start by training and productionizing some classical (\"shallow\") machine learning models with scikit-learn and then set up endpoints with AWS SageMaker so that we can make them available for inference. Then, we'll move onto training a Deep Learning model with SageMaker, so that we can make use of the distributed training to speed things up, and then ship the model to production. Finally, we'll use SageMaker to train and productionize a more advanced Convolutional Neural Network for image classification. \n",
    "\n",
    "By the end of this section, you'll know the basics of how to use AWS for Data Science projects, and you'll have hands-on experience training and productionizing 3 different machine learning models. This will set you up for success with your capstone project!\n",
    "\n",
    "## Summary\n",
    "\n",
    "In this lesson, we learned about the topics we'll be covering in this section and why they are important. "
   ]
  }
 ],
 "metadata": {
  "kernelspec": {
   "display_name": "Python 3",
   "language": "python",
   "name": "python3"
  },
  "language_info": {
   "codemirror_mode": {
    "name": "ipython",
    "version": 3
   },
   "file_extension": ".py",
   "mimetype": "text/x-python",
   "name": "python",
   "nbconvert_exporter": "python",
   "pygments_lexer": "ipython3",
   "version": "3.6.6"
  }
 },
 "nbformat": 4,
 "nbformat_minor": 2
}
